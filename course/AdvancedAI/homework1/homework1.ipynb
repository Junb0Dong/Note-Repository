{
 "cells": [
  {
   "cell_type": "markdown",
   "metadata": {},
   "source": [
    "# Homework1\n",
    "NAME: 董骏博\n",
    "SID: 12432995"
   ]
  },
  {
   "cell_type": "markdown",
   "metadata": {},
   "source": [
    "environment: python=3.10 ipykernel=6.29.5"
   ]
  },
  {
   "cell_type": "markdown",
   "metadata": {},
   "source": [
    "## Problem 1\n"
   ]
  },
  {
   "cell_type": "markdown",
   "metadata": {},
   "source": [
    "### Task 1.1"
   ]
  },
  {
   "cell_type": "code",
   "execution_count": 11,
   "metadata": {},
   "outputs": [
    {
     "name": "stdout",
     "output_type": "stream",
     "text": [
      "maps: {'A': ['B', 'C'], 'B': ['C'], 'C': ['G', 'F'], 'G': ['F'], 'F': ['E'], 'E': ['D'], 'D': []}\n"
     ]
    }
   ],
   "source": [
    "from collections import deque\n",
    "# Define maps table\n",
    "maps = dict()\n",
    "maps['A'] = ['B', 'C']\n",
    "maps['B'] = ['C']\n",
    "maps['C'] = ['G', 'F']\n",
    "maps['G'] = ['F']\n",
    "maps['F'] = ['E']\n",
    "maps['E'] = ['D']\n",
    "maps['D'] = []\n",
    "\n",
    "print(\"maps:\", maps)\n",
    "\n",
    "# Select start & end\n",
    "start = 'A'\n",
    "finish = 'D'\n",
    "# Define a queue with the initial value being a child node at the starting point\n",
    "my_deque = deque()\n",
    "my_deque += maps[start]\n",
    "# Define points that have already been searched to avoid duplicate searches\n",
    "searched = []\n",
    "# Define the parent node table\n",
    "parents = dict()\n",
    "parents['B'] = 'A'\n",
    "parents['C'] = 'A'\n",
    "# Define the path\n",
    "path = [finish]\n"
   ]
  },
  {
   "cell_type": "code",
   "execution_count": 12,
   "metadata": {},
   "outputs": [
    {
     "name": "stdout",
     "output_type": "stream",
     "text": [
      "searched:  []\n",
      "searched:  ['B']\n",
      "searched:  ['B', 'C']\n",
      "searched:  ['B', 'C']\n",
      "searched:  ['B', 'C', 'G']\n",
      "searched:  ['B', 'C', 'G', 'F']\n",
      "searched:  ['B', 'C', 'G', 'F']\n",
      "searched:  ['B', 'C', 'G', 'F', 'E']\n",
      "PATH: ['A', 'C', 'F', 'E', 'D']\n"
     ]
    }
   ],
   "source": [
    "# BFS\n",
    "while my_deque:\n",
    "    location = my_deque.popleft()\n",
    "    print(\"searched: \",searched)\n",
    "    if location not in searched:\n",
    "        # print(\"localtion:\", location)\n",
    "        if location == finish:\n",
    "            # print(parents)\n",
    "            key = finish\n",
    "            while key != start:\n",
    "                farther = parents[key]\n",
    "                path.append(farther)\n",
    "                key = farther\n",
    "            # print path\n",
    "            path.reverse()\n",
    "            print(\"PATH:\", path)\n",
    "            break\n",
    "        else:\n",
    "            my_deque += maps[location]\n",
    "            # print(\"my_deque: \", my_deque)\n",
    "            for value in maps[location]:\n",
    "                if value not in parents:\n",
    "                 parents[value] = location\n",
    "            searched.append(location)"
   ]
  },
  {
   "cell_type": "markdown",
   "metadata": {},
   "source": [
    "### Task 2.2\n"
   ]
  },
  {
   "cell_type": "code",
   "execution_count": 13,
   "metadata": {},
   "outputs": [
    {
     "name": "stdout",
     "output_type": "stream",
     "text": [
      "the cost of 'abcdefghij': 36.904\n",
      "the cost of 'afhbecgjid': 46.46\n"
     ]
    }
   ],
   "source": [
    "import math\n",
    "\n",
    "# define citys point\n",
    "cities = {\n",
    "    'a': (1, 1),\n",
    "    'b': (2, 4),\n",
    "    'c': (2, 8),\n",
    "    'd': (4, 5),\n",
    "    'e': (3, 7),\n",
    "    'f': (5, 5),\n",
    "    'g': (6, 1),\n",
    "    'h': (10, 2),\n",
    "    'i': (4, 9),\n",
    "    'j': (6, 6)\n",
    "}\n",
    "\n",
    "# calculate Euclidean distance\n",
    "def euclidean_distance(city1, city2):\n",
    "    x1, y1 = cities[city1]\n",
    "    x2, y2 = cities[city2]\n",
    "    return round(math.sqrt((x2 - x1) ** 2 + (y2 - y1) ** 2), 3)\n",
    "\n",
    "# calc the cost\n",
    "def total_path_distance(path):\n",
    "    distance = 0\n",
    "    for i in range(len(path) - 1):\n",
    "        distance += euclidean_distance(path[i], path[i + 1])\n",
    "    return distance\n",
    "\n",
    "path1 = ['a', 'b', 'c', 'd', 'e', 'f', 'g', 'h', 'i', 'j']\n",
    "path2 = ['a', 'f', 'h', 'b', 'e', 'c', 'g', 'i', 'j', 'd']\n",
    "\n",
    "path1_distance = total_path_distance(path1)\n",
    "path2_distance = total_path_distance(path2)\n",
    "\n",
    "# print\n",
    "print(f\"the cost of 'abcdefghij': {path1_distance}\")\n",
    "print(f\"the cost of 'afhbecgjid': {path2_distance}\")\n"
   ]
  },
  {
   "cell_type": "markdown",
   "metadata": {},
   "source": [
    "### Task2.4"
   ]
  },
  {
   "cell_type": "code",
   "execution_count": 14,
   "metadata": {},
   "outputs": [
    {
     "name": "stdout",
     "output_type": "stream",
     "text": [
      "parent chromosomes path1: ['a', 'b', 'c', 'd', 'e', 'f', 'g', 'h', 'i', 'j']\n",
      "parent chromosomes path2: ['a', 'f', 'h', 'b', 'e', 'c', 'g', 'i', 'j', 'd']\n",
      "3 4\n",
      "selected fragment in parent chromosome1 ['d']\n",
      "selected fragment in parent chromosome2 ['b']\n",
      "path1 after exchanging fragments:  ['a', 'b', 'c', 'b', 'e', 'f', 'g', 'h', 'i', 'j']\n",
      "path2 after exchanging fragments:  ['a', 'f', 'h', 'd', 'e', 'c', 'g', 'i', 'j', 'd']\n",
      "['a', 'b', 'c', 'e', 'f', 'g', 'h', 'i', 'j']\n",
      "offspring path1 ['a', 'd', 'c', 'b', 'e', 'f', 'g', 'h', 'i', 'j']\n",
      "['a', 'f', 'h', 'e', 'c', 'g', 'i', 'j', 'd']\n",
      "offspring path2 ['a', 'f', 'h', 'd', 'e', 'c', 'g', 'i', 'j', 'b']\n"
     ]
    }
   ],
   "source": [
    "import random\n",
    "\n",
    "list1 = ['a', 'b', 'c', 'd', 'e', 'f', 'g', 'h', 'i', 'j']\n",
    "list2 = ['a', 'f', 'h', 'b', 'e', 'c', 'g', 'i', 'j', 'd']\n",
    "print(\"parent chromosomes path1:\", list1)\n",
    "print(\"parent chromosomes path2:\", list2)\n",
    "status = True\n",
    "while status:\n",
    "   k1 = 3\n",
    "   k2 = random.randint(0, len(list2) - 1)\n",
    "   if k1 < k2:\n",
    "       status = False\n",
    "print(k1, k2)\n",
    "k11 = k1\n",
    "k22 = k1\n",
    "fragment1 = list1[k1: k2]\n",
    "fragment2 = list2[k1: k2]\n",
    "print(\"selected fragment in parent chromosome1\", fragment1)\n",
    "print(\"selected fragment in parent chromosome2\", fragment2)\n",
    "list1[k1: k2] = fragment2\n",
    "list2[k1: k2] = fragment1\n",
    "print(\"path1 after exchanging fragments: \", list1)\n",
    "print(\"path2 after exchanging fragments: \", list2)\n",
    "del list1[k1: k2]\n",
    "left1 = list1\n",
    "print(left1)\n",
    "offspring1 = []\n",
    "for pos in left1:\n",
    "   if pos in fragment2:\n",
    "       pos = fragment1[fragment2.index(pos)]\n",
    "       while pos in fragment2:\n",
    "           pos = fragment1[fragment2.index(pos)]\n",
    "       offspring1.append(pos)\n",
    "       continue\n",
    "   offspring1.append(pos)\n",
    "for i in range(0, len(fragment2)):\n",
    "   offspring1.insert(k11, fragment2[i])\n",
    "   k11 += 1\n",
    "print(\"offspring path1\", offspring1)\n",
    "\n",
    "del list2[k1: k2]\n",
    "left2 = list2\n",
    "print(left2)\n",
    "offspring2 = []\n",
    "for pos in left2:\n",
    "   if pos in fragment1:\n",
    "       pos = fragment2[fragment1.index(pos)]\n",
    "       while pos in fragment1:\n",
    "           pos = fragment2[fragment1.index(pos)]\n",
    "           offspring2.append(pos)\n",
    "           continue\n",
    "   offspring2.append(pos)\n",
    "for i in range(0, len(fragment1)):\n",
    "   offspring2.insert(k22, fragment1[i])\n",
    "   k22 += 1\n",
    "print(\"offspring path2\", offspring2)\n",
    "\n"
   ]
  }
 ],
 "metadata": {
  "kernelspec": {
   "display_name": "aai",
   "language": "python",
   "name": "python3"
  },
  "language_info": {
   "codemirror_mode": {
    "name": "ipython",
    "version": 3
   },
   "file_extension": ".py",
   "mimetype": "text/x-python",
   "name": "python",
   "nbconvert_exporter": "python",
   "pygments_lexer": "ipython3",
   "version": "3.10.15"
  }
 },
 "nbformat": 4,
 "nbformat_minor": 2
}
