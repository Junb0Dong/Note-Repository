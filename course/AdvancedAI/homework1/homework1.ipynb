{
 "cells": [
  {
   "cell_type": "markdown",
   "metadata": {},
   "source": [
    "# Homework1\n",
    "NAME: 董骏博\n",
    "SID: 12432995"
   ]
  },
  {
   "cell_type": "markdown",
   "metadata": {},
   "source": [
    "## Problem 1\n"
   ]
  },
  {
   "cell_type": "markdown",
   "metadata": {},
   "source": [
    "### Task 1.1"
   ]
  },
  {
   "cell_type": "code",
   "execution_count": 31,
   "metadata": {},
   "outputs": [
    {
     "name": "stdout",
     "output_type": "stream",
     "text": [
      "maps: {'A': ['B', 'C'], 'B': ['C'], 'C': ['G', 'F'], 'G': ['F'], 'F': ['E'], 'E': ['D'], 'D': []}\n"
     ]
    }
   ],
   "source": [
    "from collections import deque\n",
    "# Define maps table\n",
    "maps = dict()\n",
    "maps['A'] = ['B', 'C']\n",
    "maps['B'] = ['C']\n",
    "maps['C'] = ['G', 'F']\n",
    "maps['G'] = ['F']\n",
    "maps['F'] = ['E']\n",
    "maps['E'] = ['D']\n",
    "maps['D'] = []\n",
    "\n",
    "print(\"maps:\", maps)\n",
    "\n",
    "# Select start & end\n",
    "start = 'A'\n",
    "finish = 'D'\n",
    "# Define a queue with the initial value being a child node at the starting point\n",
    "my_deque = deque()\n",
    "my_deque += maps[start]\n",
    "# Define points that have already been searched to avoid duplicate searches\n",
    "searched = []\n",
    "# Define the parent node table\n",
    "parents = dict()\n",
    "parents['B'] = 'A'\n",
    "parents['C'] = 'A'\n",
    "# Define the path\n",
    "path = [finish]\n"
   ]
  },
  {
   "cell_type": "code",
   "execution_count": 32,
   "metadata": {},
   "outputs": [
    {
     "name": "stdout",
     "output_type": "stream",
     "text": [
      "searched:  []\n",
      "searched:  ['B']\n",
      "searched:  ['B', 'C']\n",
      "searched:  ['B', 'C']\n",
      "searched:  ['B', 'C', 'G']\n",
      "searched:  ['B', 'C', 'G', 'F']\n",
      "searched:  ['B', 'C', 'G', 'F']\n",
      "searched:  ['B', 'C', 'G', 'F', 'E']\n",
      "PATH: ['A', 'C', 'F', 'E', 'D']\n"
     ]
    }
   ],
   "source": [
    "# BFS\n",
    "while my_deque:\n",
    "    location = my_deque.popleft()\n",
    "    print(\"searched: \",searched)\n",
    "    if location not in searched:\n",
    "        # print(\"localtion:\", location)\n",
    "        if location == finish:\n",
    "            # print(parents)\n",
    "            key = finish\n",
    "            while key != start:\n",
    "                farther = parents[key]\n",
    "                path.append(farther)\n",
    "                key = farther\n",
    "            # print path\n",
    "            path.reverse()\n",
    "            print(\"PATH:\", path)\n",
    "            break\n",
    "        else:\n",
    "            my_deque += maps[location]\n",
    "            # print(\"my_deque: \", my_deque)\n",
    "            for value in maps[location]:\n",
    "                if value not in parents:\n",
    "                 parents[value] = location\n",
    "            searched.append(location)"
   ]
  },
  {
   "cell_type": "markdown",
   "metadata": {},
   "source": [
    "### Task 1.2\n"
   ]
  },
  {
   "cell_type": "code",
   "execution_count": null,
   "metadata": {},
   "outputs": [],
   "source": []
  }
 ],
 "metadata": {
  "kernelspec": {
   "display_name": "aai",
   "language": "python",
   "name": "python3"
  },
  "language_info": {
   "codemirror_mode": {
    "name": "ipython",
    "version": 3
   },
   "file_extension": ".py",
   "mimetype": "text/x-python",
   "name": "python",
   "nbconvert_exporter": "python",
   "pygments_lexer": "ipython3",
   "version": "3.10.15"
  }
 },
 "nbformat": 4,
 "nbformat_minor": 2
}
