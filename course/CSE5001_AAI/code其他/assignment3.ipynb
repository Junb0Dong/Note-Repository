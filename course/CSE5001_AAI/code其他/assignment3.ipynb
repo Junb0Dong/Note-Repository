{
 "cells": [
  {
   "cell_type": "code",
   "execution_count": 1,
   "metadata": {},
   "outputs": [
    {
     "name": "stdout",
     "output_type": "stream",
     "text": [
      "                 Feature  Importance\n",
      "3    Flipper Length (mm)    0.185727\n",
      "1     Culmen Length (mm)    0.131595\n",
      "6      Delta 13 C (o/oo)    0.125321\n",
      "2      Culmen Depth (mm)    0.112716\n",
      "4          Body Mass (g)    0.101891\n",
      "5      Delta 15 N (o/oo)    0.079489\n",
      "9           Island_Dream    0.060366\n",
      "0          Sample Number    0.035883\n",
      "10      Island_Torgersen    0.027444\n",
      "184    Date Egg_11/27/07    0.009734\n"
     ]
    }
   ],
   "source": [
    "from sklearn.ensemble import RandomForestClassifier\n",
    "import pandas as pd\n",
    "from sklearn.ensemble import RandomForestClassifier\n",
    "from sklearn.model_selection import train_test_split\n",
    "from sklearn.metrics import classification_report\n",
    "\n",
    "# load dataset\n",
    "train_data = pd.read_csv('train_data.csv')\n",
    "X = train_data.drop(columns=['Species'])\n",
    "y = train_data['Species']\n",
    "\n",
    "# One-Hot Encode\n",
    "X = pd.get_dummies(X, drop_first=True)\n",
    "\n",
    "# RandomForest\n",
    "model = RandomForestClassifier(n_estimators=100, random_state=42)\n",
    "model.fit(X, y)\n",
    "\n",
    "# get importance and print\n",
    "importance = model.feature_importances_\n",
    "feature_importance = pd.DataFrame({'Feature': X.columns, 'Importance': importance})\n",
    "feature_importance = feature_importance.sort_values(by='Importance', ascending=False)\n",
    "print(feature_importance.head(10))"
   ]
  },
  {
   "cell_type": "code",
   "execution_count": 2,
   "metadata": {},
   "outputs": [
    {
     "name": "stdout",
     "output_type": "stream",
     "text": [
      "               Feature  Importance\n",
      "3  Flipper Length (mm)    0.185727\n",
      "1   Culmen Length (mm)    0.131595\n",
      "6    Delta 13 C (o/oo)    0.125321\n",
      "2    Culmen Depth (mm)    0.112716\n",
      "4        Body Mass (g)    0.101891\n",
      "5    Delta 15 N (o/oo)    0.079489\n",
      "9         Island_Dream    0.060366\n",
      "0        Sample Number    0.035883\n"
     ]
    }
   ],
   "source": [
    "print(feature_importance.head(8))"
   ]
  },
  {
   "cell_type": "markdown",
   "metadata": {},
   "source": [
    "只取重要性最大的重要性最大的前5维\n",
    "1. 他们的重要度都大于0.06\n",
    "2. 后面的很多是one-shot数据类型，对于分类问题的准确度影响不大，但是会造成数据维度的上升，占用内存并影响训练速度"
   ]
  },
  {
   "cell_type": "code",
   "execution_count": 3,
   "metadata": {},
   "outputs": [
    {
     "name": "stdout",
     "output_type": "stream",
     "text": [
      "Index(['Sample Number', 'Culmen Length (mm)', 'Culmen Depth (mm)',\n",
      "       'Flipper Length (mm)', 'Body Mass (g)', 'Delta 15 N (o/oo)',\n",
      "       'Delta 13 C (o/oo)', 'studyName_PAL0809', 'studyName_PAL0910',\n",
      "       'Island_Dream',\n",
      "       ...\n",
      "       'Date Egg_2011/5/8', 'Date Egg_2011/6/8', 'Date Egg_2011/8/8',\n",
      "       'Date Egg_2011/9/7', 'Date Egg_2011/9/8', 'Date Egg_2011/9/9',\n",
      "       'Date Egg_2012/1/9', 'Date Egg_2012/3/7', 'Sex_FEMALE', 'Sex_MALE'],\n",
      "      dtype='object', length=208)\n"
     ]
    }
   ],
   "source": [
    "print(X.columns)"
   ]
  },
  {
   "cell_type": "code",
   "execution_count": 4,
   "metadata": {},
   "outputs": [],
   "source": [
    "# select features\n",
    "features = ['Flipper Length (mm)', 'Culmen Length (mm)', 'Delta 13 C (o/oo)', \n",
    "            'Culmen Depth (mm)', 'Body Mass (g)']\n",
    "# features = ['Flipper Length (mm)', 'Culmen Length (mm)', 'Delta 13 C (o/oo)', \n",
    "#             'Culmen Depth (mm)', 'Body Mass (g)', 'Delta 15 N (o/oo)', 'Island_Dream']\n",
    "# features = ['Flipper Length (mm)', 'Culmen Length (mm)', 'Delta 13 C (o/oo)', \n",
    "#             'Culmen Depth (mm)', 'Body Mass (g)']\n",
    "# 对 'Island' 列进行 One-Hot 编码\n",
    "# train_data_encoded = pd.get_dummies(train_data, columns=['Island'], drop_first=True)\n",
    "X_train = train_data[features]\n",
    "y_train = train_data['Species']"
   ]
  },
  {
   "cell_type": "code",
   "execution_count": 5,
   "metadata": {},
   "outputs": [
    {
     "name": "stdout",
     "output_type": "stream",
     "text": [
      "Flipper Length (mm)    0\n",
      "Culmen Length (mm)     0\n",
      "Delta 13 C (o/oo)      0\n",
      "Culmen Depth (mm)      0\n",
      "Body Mass (g)          0\n",
      "dtype: int64\n"
     ]
    }
   ],
   "source": [
    "null_sum = X_train.isnull().sum()\n",
    "print(null_sum)\n",
    "\n",
    "if null_sum.sum()!= 0:\n",
    "    mean_values = X_train.mean()\n",
    "    X_train = X_train.fillna(mean_values)"
   ]
  },
  {
   "cell_type": "code",
   "execution_count": 6,
   "metadata": {},
   "outputs": [
    {
     "name": "stdout",
     "output_type": "stream",
     "text": [
      "                                           precision    recall  f1-score   support\n",
      "\n",
      "      Adelie Penguin (Pygoscelis adeliae)       1.00      1.00      1.00        21\n",
      "Chinstrap penguin (Pygoscelis antarctica)       1.00      1.00      1.00        12\n",
      "        Gentoo penguin (Pygoscelis papua)       1.00      1.00      1.00        13\n",
      "\n",
      "                                 accuracy                           1.00        46\n",
      "                                macro avg       1.00      1.00      1.00        46\n",
      "                             weighted avg       1.00      1.00      1.00        46\n",
      "\n"
     ]
    }
   ],
   "source": [
    "# train\n",
    "X_train, X_val, y_train, y_val = train_test_split(X_train, y_train, test_size=0.2, random_state=42)\n",
    "model = RandomForestClassifier(n_estimators=100, random_state=42)\n",
    "model.fit(X_train, y_train)\n",
    "\n",
    "# predict in test data\n",
    "y_pred = model.predict(X_val)\n",
    "print(classification_report(y_val, y_pred))"
   ]
  },
  {
   "cell_type": "code",
   "execution_count": 7,
   "metadata": {},
   "outputs": [
    {
     "name": "stdout",
     "output_type": "stream",
     "text": [
      "['Adelie Penguin (Pygoscelis adeliae)'\n",
      " 'Adelie Penguin (Pygoscelis adeliae)'\n",
      " 'Adelie Penguin (Pygoscelis adeliae)'\n",
      " 'Adelie Penguin (Pygoscelis adeliae)'\n",
      " 'Adelie Penguin (Pygoscelis adeliae)'\n",
      " 'Adelie Penguin (Pygoscelis adeliae)'\n",
      " 'Chinstrap penguin (Pygoscelis antarctica)'\n",
      " 'Adelie Penguin (Pygoscelis adeliae)'\n",
      " 'Adelie Penguin (Pygoscelis adeliae)'\n",
      " 'Adelie Penguin (Pygoscelis adeliae)'\n",
      " 'Adelie Penguin (Pygoscelis adeliae)'\n",
      " 'Adelie Penguin (Pygoscelis adeliae)'\n",
      " 'Adelie Penguin (Pygoscelis adeliae)'\n",
      " 'Adelie Penguin (Pygoscelis adeliae)'\n",
      " 'Adelie Penguin (Pygoscelis adeliae)'\n",
      " 'Adelie Penguin (Pygoscelis adeliae)'\n",
      " 'Adelie Penguin (Pygoscelis adeliae)'\n",
      " 'Adelie Penguin (Pygoscelis adeliae)'\n",
      " 'Adelie Penguin (Pygoscelis adeliae)'\n",
      " 'Adelie Penguin (Pygoscelis adeliae)'\n",
      " 'Adelie Penguin (Pygoscelis adeliae)'\n",
      " 'Adelie Penguin (Pygoscelis adeliae)'\n",
      " 'Adelie Penguin (Pygoscelis adeliae)'\n",
      " 'Adelie Penguin (Pygoscelis adeliae)'\n",
      " 'Adelie Penguin (Pygoscelis adeliae)'\n",
      " 'Adelie Penguin (Pygoscelis adeliae)'\n",
      " 'Adelie Penguin (Pygoscelis adeliae)'\n",
      " 'Adelie Penguin (Pygoscelis adeliae)'\n",
      " 'Adelie Penguin (Pygoscelis adeliae)'\n",
      " 'Adelie Penguin (Pygoscelis adeliae)'\n",
      " 'Adelie Penguin (Pygoscelis adeliae)'\n",
      " 'Adelie Penguin (Pygoscelis adeliae)'\n",
      " 'Adelie Penguin (Pygoscelis adeliae)'\n",
      " 'Adelie Penguin (Pygoscelis adeliae)'\n",
      " 'Adelie Penguin (Pygoscelis adeliae)'\n",
      " 'Adelie Penguin (Pygoscelis adeliae)'\n",
      " 'Adelie Penguin (Pygoscelis adeliae)'\n",
      " 'Adelie Penguin (Pygoscelis adeliae)'\n",
      " 'Adelie Penguin (Pygoscelis adeliae)'\n",
      " 'Adelie Penguin (Pygoscelis adeliae)'\n",
      " 'Chinstrap penguin (Pygoscelis antarctica)'\n",
      " 'Chinstrap penguin (Pygoscelis antarctica)'\n",
      " 'Chinstrap penguin (Pygoscelis antarctica)'\n",
      " 'Chinstrap penguin (Pygoscelis antarctica)'\n",
      " 'Chinstrap penguin (Pygoscelis antarctica)'\n",
      " 'Chinstrap penguin (Pygoscelis antarctica)'\n",
      " 'Chinstrap penguin (Pygoscelis antarctica)'\n",
      " 'Chinstrap penguin (Pygoscelis antarctica)'\n",
      " 'Adelie Penguin (Pygoscelis adeliae)'\n",
      " 'Chinstrap penguin (Pygoscelis antarctica)'\n",
      " 'Adelie Penguin (Pygoscelis adeliae)'\n",
      " 'Chinstrap penguin (Pygoscelis antarctica)'\n",
      " 'Chinstrap penguin (Pygoscelis antarctica)'\n",
      " 'Chinstrap penguin (Pygoscelis antarctica)'\n",
      " 'Chinstrap penguin (Pygoscelis antarctica)'\n",
      " 'Chinstrap penguin (Pygoscelis antarctica)'\n",
      " 'Chinstrap penguin (Pygoscelis antarctica)'\n",
      " 'Chinstrap penguin (Pygoscelis antarctica)'\n",
      " 'Chinstrap penguin (Pygoscelis antarctica)'\n",
      " 'Chinstrap penguin (Pygoscelis antarctica)'\n",
      " 'Chinstrap penguin (Pygoscelis antarctica)'\n",
      " 'Chinstrap penguin (Pygoscelis antarctica)'\n",
      " 'Chinstrap penguin (Pygoscelis antarctica)'\n",
      " 'Chinstrap penguin (Pygoscelis antarctica)'\n",
      " 'Gentoo penguin (Pygoscelis papua)' 'Gentoo penguin (Pygoscelis papua)'\n",
      " 'Gentoo penguin (Pygoscelis papua)' 'Gentoo penguin (Pygoscelis papua)'\n",
      " 'Gentoo penguin (Pygoscelis papua)' 'Gentoo penguin (Pygoscelis papua)'\n",
      " 'Gentoo penguin (Pygoscelis papua)' 'Gentoo penguin (Pygoscelis papua)'\n",
      " 'Gentoo penguin (Pygoscelis papua)' 'Gentoo penguin (Pygoscelis papua)'\n",
      " 'Gentoo penguin (Pygoscelis papua)' 'Gentoo penguin (Pygoscelis papua)'\n",
      " 'Gentoo penguin (Pygoscelis papua)' 'Gentoo penguin (Pygoscelis papua)'\n",
      " 'Gentoo penguin (Pygoscelis papua)' 'Gentoo penguin (Pygoscelis papua)'\n",
      " 'Gentoo penguin (Pygoscelis papua)' 'Gentoo penguin (Pygoscelis papua)'\n",
      " 'Gentoo penguin (Pygoscelis papua)' 'Gentoo penguin (Pygoscelis papua)'\n",
      " 'Gentoo penguin (Pygoscelis papua)' 'Gentoo penguin (Pygoscelis papua)'\n",
      " 'Gentoo penguin (Pygoscelis papua)' 'Gentoo penguin (Pygoscelis papua)'\n",
      " 'Gentoo penguin (Pygoscelis papua)' 'Gentoo penguin (Pygoscelis papua)'\n",
      " 'Gentoo penguin (Pygoscelis papua)' 'Gentoo penguin (Pygoscelis papua)'\n",
      " 'Gentoo penguin (Pygoscelis papua)' 'Gentoo penguin (Pygoscelis papua)'\n",
      " 'Gentoo penguin (Pygoscelis papua)' 'Gentoo penguin (Pygoscelis papua)'\n",
      " 'Gentoo penguin (Pygoscelis papua)' 'Gentoo penguin (Pygoscelis papua)']\n"
     ]
    }
   ],
   "source": [
    "# load test dataset\n",
    "test_data = pd.read_csv('test_data.csv')\n",
    "X_test = test_data[features].copy()\n",
    "X_test.fillna(X_test.mean(), inplace=True)\n",
    "\n",
    "# predict\n",
    "test_predictions = model.predict(X_test)\n",
    "print(test_predictions)"
   ]
  },
  {
   "cell_type": "code",
   "execution_count": 8,
   "metadata": {},
   "outputs": [
    {
     "name": "stdout",
     "output_type": "stream",
     "text": [
      "预测结果已成功写入到 predictions.txt 中。\n"
     ]
    }
   ],
   "source": [
    "# write .txt file\n",
    "output_file_name = \"predictions.txt\"\n",
    "\n",
    "with open(output_file_name, 'w') as file:\n",
    "    if len(test_predictions.shape) > 1:\n",
    "        for prediction in test_predictions:\n",
    "            prediction_str = \" \".join(map(str, prediction))\n",
    "            file.write(prediction_str + \"\\n\")\n",
    "    else:\n",
    "        for prediction in test_predictions:\n",
    "            file.write(str(prediction) + \"\\n\")\n",
    "\n",
    "print(f\"预测结果已成功写入到 {output_file_name} 中。\")"
   ]
  }
 ],
 "metadata": {
  "kernelspec": {
   "display_name": "aai",
   "language": "python",
   "name": "python3"
  },
  "language_info": {
   "codemirror_mode": {
    "name": "ipython",
    "version": 3
   },
   "file_extension": ".py",
   "mimetype": "text/x-python",
   "name": "python",
   "nbconvert_exporter": "python",
   "pygments_lexer": "ipython3",
   "version": "3.10.15"
  }
 },
 "nbformat": 4,
 "nbformat_minor": 2
}
