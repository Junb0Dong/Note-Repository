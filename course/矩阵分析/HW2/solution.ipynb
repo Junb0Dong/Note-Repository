{
 "cells": [
  {
   "cell_type": "code",
   "execution_count": 4,
   "metadata": {},
   "outputs": [
    {
     "data": {
      "text/latex": [
       "$\\displaystyle 0$"
      ],
      "text/plain": [
       "0"
      ]
     },
     "execution_count": 4,
     "metadata": {},
     "output_type": "execute_result"
    }
   ],
   "source": [
    "from sympy import Matrix\n",
    "\n",
    "# Redefine the 4x5 matrix with the five vectors as columns\n",
    "A = Matrix([\n",
    "    [1, 1, 2, 1],\n",
    "    [2, 0, 8, 1],\n",
    "    [-1, 0, -4, 1],\n",
    "    [3, 2, 8, 1]\n",
    "])\n",
    "\n",
    "# # Extract a 3x3 submatrix (first three columns) to calculate its determinant\n",
    "# A_3x3 = A_new[:3, :3]  # Taking only the first three rows and columns to form a 3x3 matrix\n",
    "\n",
    "# # Calculate the determinant of this 3x3 matrix\n",
    "# det_A_3x3 = A_3x3.det()\n",
    "# det_A_3x3\n",
    "# det = A.det()\n",
    "# det\n"
   ]
  },
  {
   "cell_type": "code",
   "execution_count": 13,
   "metadata": {},
   "outputs": [
    {
     "data": {
      "text/plain": [
       "(2, 3)"
      ]
     },
     "execution_count": 13,
     "metadata": {},
     "output_type": "execute_result"
    }
   ],
   "source": [
    "# Import required library\n",
    "from sympy import Matrix\n",
    "\n",
    "# Define the augmented matrix for V1 to solve its solution space\n",
    "V1_matrix = Matrix([\n",
    "    [1, -1, 5, -1],\n",
    "    [1, 1, -2, 3]\n",
    "])\n",
    "\n",
    "# Perform row reduction to find the rank and the null space (solution space) dimension for V1\n",
    "V1_rref = V1_matrix.rref()\n",
    "V1_rank = V1_matrix.rank()\n",
    "V1_dimension = V1_matrix.cols - V1_rank  # Nullity gives the dimension of the solution space (V1)\n",
    "\n",
    "# Define the matrix for V2 with vectors alpha1, alpha2, and alpha3 as columns\n",
    "alpha1 = Matrix([-3, -1, 1, 0])\n",
    "alpha2 = Matrix([4, 3, -1, 1])\n",
    "alpha3 = Matrix([-2, 1, 1, -1])\n",
    "V2_matrix = Matrix.hstack(alpha1, alpha2, alpha3)\n",
    "\n",
    "# Perform row reduction to find the rank and thus the dimension for V2\n",
    "V2_rref = V2_matrix.rref()\n",
    "V2_rank = V2_matrix.rank()\n",
    "V2_dimension = V2_rank\n",
    "\n",
    "# Display V1 and V2 dimensions as well as ranks\n",
    "V1_dimension, V2_dimension\n"
   ]
  },
  {
   "cell_type": "code",
   "execution_count": 2,
   "metadata": {},
   "outputs": [
    {
     "data": {
      "text/plain": [
       "(1, 4)"
      ]
     },
     "execution_count": 2,
     "metadata": {},
     "output_type": "execute_result"
    }
   ],
   "source": [
    "# To find the intersection V1 ∩ V2, we can use the null space approach for V1 and V2 separately\n",
    "# and then calculate their overlap in the null space.\n",
    "\n",
    "# Find the null space basis vectors for V1\n",
    "V1_null_space = V1_matrix.nullspace()\n",
    "\n",
    "# Convert V1 null space vectors to a matrix form for easier calculations\n",
    "V1_null_matrix = Matrix.hstack(*V1_null_space)\n",
    "\n",
    "# Calculate the intersection dimension by finding the rank of the combined null spaces of V1 and V2.\n",
    "# Stack the basis vectors of V1's null space and V2's column vectors\n",
    "intersection_matrix = Matrix.hstack(V1_null_matrix, V2_matrix)\n",
    "intersection_rank = intersection_matrix.rank()\n",
    "V1_inter_V2_dimension = V1_null_matrix.shape[1] + V2_dimension - intersection_rank\n",
    "\n",
    "# Calculate the dimension of V1 + V2 using the formula\n",
    "V1_union_V2_dimension = V1_dimension + V2_dimension - V1_inter_V2_dimension\n",
    "\n",
    "V1_inter_V2_dimension, V1_union_V2_dimension\n"
   ]
  },
  {
   "cell_type": "code",
   "execution_count": 12,
   "metadata": {},
   "outputs": [
    {
     "name": "stdout",
     "output_type": "stream",
     "text": [
      "Matrix([[-3, 4, -2, 1, 1], [-1, 3, 1, -1, 1], [1, -1, 1, 5, -2], [0, 1, -1, -1, 3]])\n",
      "(Matrix([\n",
      "[1, 0, 0, 0,   16/7],\n",
      "[0, 1, 0, 0,  79/56],\n",
      "[0, 0, 1, 0, -71/56],\n",
      "[0, 0, 0, 1,  -9/28]]), (0, 1, 2, 3))\n",
      "4\n"
     ]
    }
   ],
   "source": [
    "alpha1 = Matrix([-3, -1, 1, 0])\n",
    "alpha2 = Matrix([4, 3, -1, 1])\n",
    "alpha3 = Matrix([-2, 1, 1, -1])\n",
    "alpha4 = Matrix([1, -1, 5, -1])\n",
    "alpha5 = Matrix([1, 1, -2, 3])\n",
    "V_matrix = Matrix.hstack(alpha1, alpha2, alpha3, alpha4, alpha5)\n",
    "\n",
    "V_rref = V_matrix.rref()\n",
    "V_rank = V_matrix.rank()\n",
    "print(V_matrix)\n",
    "print(V_rref)\n",
    "print(V_rank)"
   ]
  }
 ],
 "metadata": {
  "kernelspec": {
   "display_name": "aai",
   "language": "python",
   "name": "python3"
  },
  "language_info": {
   "codemirror_mode": {
    "name": "ipython",
    "version": 3
   },
   "file_extension": ".py",
   "mimetype": "text/x-python",
   "name": "python",
   "nbconvert_exporter": "python",
   "pygments_lexer": "ipython3",
   "version": "3.10.15"
  }
 },
 "nbformat": 4,
 "nbformat_minor": 2
}
