{
 "cells": [
  {
   "cell_type": "code",
   "execution_count": 1,
   "metadata": {},
   "outputs": [
    {
     "data": {
      "text/plain": [
       "array([[   0.,    1.,    0., -300.],\n",
       "       [  -1.,   -0.,   -0., -100.],\n",
       "       [   0.,    0.,    1., -500.],\n",
       "       [   0.,    0.,    0.,    1.]])"
      ]
     },
     "execution_count": 1,
     "metadata": {},
     "output_type": "execute_result"
    }
   ],
   "source": [
    "import numpy as np\n",
    "\n",
    "# Defining the given matrix Tab\n",
    "Tab = np.array([[0, -1, 0, -100],\n",
    "                [1, 0, 0, 300],\n",
    "                [0, 0, 1, 500],\n",
    "                [0, 0, 0, 1]])\n",
    "\n",
    "# Calculating the inverse of Tab\n",
    "Tab_inverse = np.linalg.inv(Tab)\n",
    "Tab_inverse"
   ]
  }
 ],
 "metadata": {
  "kernelspec": {
   "display_name": "deeplearning",
   "language": "python",
   "name": "python3"
  },
  "language_info": {
   "codemirror_mode": {
    "name": "ipython",
    "version": 3
   },
   "file_extension": ".py",
   "mimetype": "text/x-python",
   "name": "python",
   "nbconvert_exporter": "python",
   "pygments_lexer": "ipython3",
   "version": "3.9.19"
  }
 },
 "nbformat": 4,
 "nbformat_minor": 2
}
